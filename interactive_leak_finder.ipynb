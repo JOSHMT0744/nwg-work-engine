{
 "cells": [
  {
   "cell_type": "code",
   "execution_count": null,
   "outputs": [],
   "source": [
    "from find_leaks import LeakFinder\n",
    "from network import RandomWaterDistributionNetwork\n",
    "import gravis\n",
    "\n",
    "leak_finder = LeakFinder()\n",
    "random_network_maker = RandomWaterDistributionNetwork()"
   ],
   "metadata": {
    "collapsed": false
   }
  },
  {
   "cell_type": "code",
   "execution_count": null,
   "outputs": [],
   "source": [
    "number_of_nodes = 30\n",
    "flow_input_at_source = 10000\n",
    "number_of_leaks = 3\n",
    "\n",
    "random_network = random_network_maker.random_network(\n",
    "    number_of_nodes,\n",
    "    flow_input_at_source,\n",
    "    number_of_leaks\n",
    ")\n",
    "\n",
    "figure = gravis.d3(random_network)\n",
    "figure.display(inline=True)"
   ],
   "metadata": {
    "collapsed": false
   }
  },
  {
   "cell_type": "code",
   "execution_count": null,
   "outputs": [],
   "source": [
    "leaks = leak_finder.find_leaks(random_network)\n",
    "print(f\"Found f{len(leaks)} in the network\")\n",
    "print(\"There are leaks at:\")\n",
    "leaks.sort(key=lambda leak: leak.flow_loss, reverse=True)\n",
    "for leak in leaks:\n",
    "    print(f\"\\t- Node {leak.from_node} with flow loss of ~{leak.flow_loss}\")\n",
    "    for edge in leak.potential_leak_edges():\n",
    "        print(f\"\\t\\t- Potentially on edge {edge}\")"
   ],
   "metadata": {
    "collapsed": false
   }
  },
  {
   "cell_type": "code",
   "execution_count": null,
   "outputs": [],
   "source": [
    "node = 1\n",
    "expected = leak_finder.get_flow_at(random_network, node)\n",
    "actual = leak_finder.get_flow_out_total(random_network, node)\n",
    "\n",
    "print(f\"Expected flow out of node {1} to be {expected}\")\n",
    "print(f\"It was actually {actual}\")"
   ],
   "metadata": {
    "collapsed": false
   }
  }
 ],
 "metadata": {
  "kernelspec": {
   "display_name": "Python 3",
   "language": "python",
   "name": "python3"
  },
  "language_info": {
   "codemirror_mode": {
    "name": "ipython",
    "version": 2
   },
   "file_extension": ".py",
   "mimetype": "text/x-python",
   "name": "python",
   "nbconvert_exporter": "python",
   "pygments_lexer": "ipython2",
   "version": "2.7.6"
  }
 },
 "nbformat": 4,
 "nbformat_minor": 0
}
